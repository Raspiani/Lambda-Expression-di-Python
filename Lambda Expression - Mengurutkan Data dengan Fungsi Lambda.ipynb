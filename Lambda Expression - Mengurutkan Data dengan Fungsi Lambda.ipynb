{
 "cells": [
  {
   "cell_type": "markdown",
   "metadata": {},
   "source": [
    "## Lambda Expression - Mengurutkan Data dengan Fungsi Lambda\n",
    "\n",
    "Berikut ini cara mengurutkan data (list data) dengan fungsi lambda."
   ]
  },
  {
   "cell_type": "code",
   "execution_count": 27,
   "metadata": {},
   "outputs": [],
   "source": [
    "#membuat list data\n",
    "attendance = [23, 45, 67, 33, 30, 31]"
   ]
  },
  {
   "cell_type": "code",
   "execution_count": 28,
   "metadata": {},
   "outputs": [
    {
     "data": {
      "text/plain": [
       "[67, 45, 33, 31, 30, 23]"
      ]
     },
     "execution_count": 28,
     "metadata": {},
     "output_type": "execute_result"
    }
   ],
   "source": [
    "#cara I: mengurutkan data dengan fungsi sorted\n",
    "#urutan descending\n",
    "sorted(attendance, reverse = True)"
   ]
  },
  {
   "cell_type": "code",
   "execution_count": 29,
   "metadata": {},
   "outputs": [
    {
     "data": {
      "text/plain": [
       "[23, 30, 31, 33, 45, 67]"
      ]
     },
     "execution_count": 29,
     "metadata": {},
     "output_type": "execute_result"
    }
   ],
   "source": [
    "#urutan ascending\n",
    "sorted(attendance, reverse = False)"
   ]
  },
  {
   "cell_type": "code",
   "execution_count": 30,
   "metadata": {},
   "outputs": [
    {
     "data": {
      "text/plain": [
       "[23, 30, 31, 33, 45, 67]"
      ]
     },
     "execution_count": 30,
     "metadata": {},
     "output_type": "execute_result"
    }
   ],
   "source": [
    "#urutan ascending, defaultnya ascending\n",
    "sorted(attendance)"
   ]
  },
  {
   "cell_type": "code",
   "execution_count": 31,
   "metadata": {},
   "outputs": [
    {
     "data": {
      "text/plain": [
       "[67, 45, 33, 31, 30, 23]"
      ]
     },
     "execution_count": 31,
     "metadata": {},
     "output_type": "execute_result"
    }
   ],
   "source": [
    "#cara II: mengurutkan data dengan fungsi sort\n",
    "attendance.sort(reverse = True)\n",
    "\n",
    "#melihat hasilnya\n",
    "attendance"
   ]
  },
  {
   "cell_type": "code",
   "execution_count": 32,
   "metadata": {},
   "outputs": [
    {
     "data": {
      "text/plain": [
       "[23, 30, 31, 33, 45, 67]"
      ]
     },
     "execution_count": 32,
     "metadata": {},
     "output_type": "execute_result"
    }
   ],
   "source": [
    "#cara III: mengurutkan data dengan fungsi lambda\n",
    "#urutan ascending, defaultnya ascending\n",
    "attendance.sort()\n",
    "\n",
    "#melihat hasilnya\n",
    "attendance"
   ]
  },
  {
   "cell_type": "code",
   "execution_count": 33,
   "metadata": {},
   "outputs": [],
   "source": [
    "#membuat list dengan nilai tuple\n",
    "class_att = [('9A', 35), ('9B', 37), ('9C', 30), ('9D', 32), ('9E', 34)]"
   ]
  },
  {
   "cell_type": "code",
   "execution_count": 34,
   "metadata": {},
   "outputs": [
    {
     "data": {
      "text/plain": [
       "[('9A', 35), ('9B', 37), ('9C', 30), ('9D', 32), ('9E', 34)]"
      ]
     },
     "execution_count": 34,
     "metadata": {},
     "output_type": "execute_result"
    }
   ],
   "source": [
    "#mengurutkan nilai tuple yang ada pada list berdasarkan key, yaitu '9A' dst\n",
    "sorted(class_att, key = lambda x : x[0])"
   ]
  },
  {
   "cell_type": "code",
   "execution_count": 35,
   "metadata": {},
   "outputs": [
    {
     "data": {
      "text/plain": [
       "[('9C', 30), ('9D', 32), ('9E', 34), ('9A', 35), ('9B', 37)]"
      ]
     },
     "execution_count": 35,
     "metadata": {},
     "output_type": "execute_result"
    }
   ],
   "source": [
    "#mengurutkan nilai tuple yang ada pada list berdasarkan value, yaitu 30 dst\n",
    "sorted(class_att, key = lambda x : x[1])"
   ]
  },
  {
   "cell_type": "markdown",
   "metadata": {},
   "source": [
    "                                        #Semoga Bermanfaat\n",
    "                                        #@Raspiani_"
   ]
  }
 ],
 "metadata": {
  "kernelspec": {
   "display_name": "Python 3",
   "language": "python",
   "name": "python3"
  },
  "language_info": {
   "codemirror_mode": {
    "name": "ipython",
    "version": 3
   },
   "file_extension": ".py",
   "mimetype": "text/x-python",
   "name": "python",
   "nbconvert_exporter": "python",
   "pygments_lexer": "ipython3",
   "version": "3.6.5"
  }
 },
 "nbformat": 4,
 "nbformat_minor": 2
}
