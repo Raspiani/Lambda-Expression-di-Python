{
 "cells": [
  {
   "cell_type": "markdown",
   "metadata": {},
   "source": [
    "## Lambda Expression - Mengakses Nested List dengan Fungsi Lambda dan Fungsi Map\n",
    "\n",
    "Berikut ini cara mengakses nested list dengan fungsi lambda dan fungsi map."
   ]
  },
  {
   "cell_type": "code",
   "execution_count": 9,
   "metadata": {},
   "outputs": [],
   "source": [
    "#membuat list\n",
    "scores = [[1, 35, 80], [2, 32, 75], [3, 30, 82], [4, 33, 75], [5, 37, 60]]"
   ]
  },
  {
   "cell_type": "code",
   "execution_count": 10,
   "metadata": {},
   "outputs": [],
   "source": [
    "#mendefinisikan konstanta\n",
    "abv_avg = 35"
   ]
  },
  {
   "cell_type": "code",
   "execution_count": 11,
   "metadata": {},
   "outputs": [],
   "source": [
    "#membuat fungsi map dan lambda\n",
    "#membuat kondisi dimana untuk nilai di dalam list dengan index 2 (yaitu 80 dst) akan ditambahkan dengan konstanta 2 atau dikurangkan dengan konstanta 2\n",
    "#apabila nilai di dalam list dengan index 1 (yaitu 35 dst) dibandingkan dengan nilai di abv_avg\n",
    "new_marks = map(lambda x : x[2] + 2 if x[1] >= abv_avg else x[2] - 2, scores)"
   ]
  },
  {
   "cell_type": "code",
   "execution_count": 12,
   "metadata": {},
   "outputs": [
    {
     "data": {
      "text/plain": [
       "<map at 0x1bbe53de438>"
      ]
     },
     "execution_count": 12,
     "metadata": {},
     "output_type": "execute_result"
    }
   ],
   "source": [
    "#melihat isi new_marks\n",
    "new_marks"
   ]
  },
  {
   "cell_type": "code",
   "execution_count": 13,
   "metadata": {},
   "outputs": [
    {
     "data": {
      "text/plain": [
       "[82, 73, 80, 73, 62]"
      ]
     },
     "execution_count": 13,
     "metadata": {},
     "output_type": "execute_result"
    }
   ],
   "source": [
    "#melihat hasilnya \n",
    "list(new_marks)"
   ]
  },
  {
   "cell_type": "markdown",
   "metadata": {},
   "source": [
    "                                        #Semoga Bermanfaat\n",
    "                                        #@Raspiani_"
   ]
  }
 ],
 "metadata": {
  "kernelspec": {
   "display_name": "Python 3",
   "language": "python",
   "name": "python3"
  },
  "language_info": {
   "codemirror_mode": {
    "name": "ipython",
    "version": 3
   },
   "file_extension": ".py",
   "mimetype": "text/x-python",
   "name": "python",
   "nbconvert_exporter": "python",
   "pygments_lexer": "ipython3",
   "version": "3.6.5"
  }
 },
 "nbformat": 4,
 "nbformat_minor": 2
}
