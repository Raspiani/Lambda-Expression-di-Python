{
 "cells": [
  {
   "cell_type": "markdown",
   "metadata": {},
   "source": [
    "## Lambda Expression - Filtering Dictionary Menggunakan Fungsi Filter dan Fungsi Lambda\n",
    "\n",
    "Berikut ini tutorial cara melakukan filtering dictionary menggunakan fungsi filter dan fungsi lambda."
   ]
  },
  {
   "cell_type": "code",
   "execution_count": 2,
   "metadata": {},
   "outputs": [],
   "source": [
    "#mendefinisikan data dictionary\n",
    "sales = [{'country':'Indonesia', 'sale':100.5},\n",
    "         {'country':'China', 'sale':200.2}, \n",
    "         {'country':'USA', 'sale':300.3},\n",
    "         {'country':'UK', 'sale':210.4}]"
   ]
  },
  {
   "cell_type": "code",
   "execution_count": 3,
   "metadata": {},
   "outputs": [],
   "source": [
    "#membuat filter dan lambda\n",
    "Indonesia_sales = filter(lambda x: x['country'] == 'Indonesia', sales)"
   ]
  },
  {
   "cell_type": "code",
   "execution_count": 4,
   "metadata": {},
   "outputs": [
    {
     "data": {
      "text/plain": [
       "[{'country': 'Indonesia', 'sale': 100.5}]"
      ]
     },
     "execution_count": 4,
     "metadata": {},
     "output_type": "execute_result"
    }
   ],
   "source": [
    "#melihat hasil filter\n",
    "list(Indonesia_sales)"
   ]
  },
  {
   "cell_type": "code",
   "execution_count": 5,
   "metadata": {},
   "outputs": [],
   "source": [
    "#memfilter country yang nilai salenya > 200\n",
    "high_sales = filter(lambda x: x['sale'] > 200, sales)"
   ]
  },
  {
   "cell_type": "code",
   "execution_count": 6,
   "metadata": {},
   "outputs": [
    {
     "data": {
      "text/plain": [
       "[{'country': 'China', 'sale': 200.2},\n",
       " {'country': 'USA', 'sale': 300.3},\n",
       " {'country': 'UK', 'sale': 210.4}]"
      ]
     },
     "execution_count": 6,
     "metadata": {},
     "output_type": "execute_result"
    }
   ],
   "source": [
    "#melihat hasil filter\n",
    "list(high_sales)"
   ]
  },
  {
   "cell_type": "markdown",
   "metadata": {},
   "source": [
    "                        #Semoga Bermanfaat\n",
    "                        #@Raspiani_"
   ]
  }
 ],
 "metadata": {
  "kernelspec": {
   "display_name": "Python 3",
   "language": "python",
   "name": "python3"
  },
  "language_info": {
   "codemirror_mode": {
    "name": "ipython",
    "version": 3
   },
   "file_extension": ".py",
   "mimetype": "text/x-python",
   "name": "python",
   "nbconvert_exporter": "python",
   "pygments_lexer": "ipython3",
   "version": "3.6.5"
  }
 },
 "nbformat": 4,
 "nbformat_minor": 2
}
